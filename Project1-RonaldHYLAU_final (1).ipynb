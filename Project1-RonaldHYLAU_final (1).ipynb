{
 "cells": [
  {
   "cell_type": "markdown",
   "metadata": {},
   "source": [
    "## Task 1 (6 marks)\n",
    "In order to begin playing this game, we require a function that can update the game state after a move has been made.  Write a function ``add_coin(board, coin, column)``.  This function should take the following parameters:\n",
    "- ``board``: A list of lists representing the current state of the board\n",
    "- ``coin``: The character representing the current player's coin, i.e. 'R' or 'Y'\n",
    "- ``column``: An integer representing the column in which the player is inserting their coin, with 0 representing the left-most column in the grid.  You may assume that a value greater than the maximum number of columns in the grid will never be entered.\n",
    "Your function should return a list of lists representing the new state of the board after the coin has been played.\n",
    "\n",
    "Here are some examples you can use to call your function\n",
    "```python\n",
    "add_coin([[0,0,0,0],[0,0,0,0],[0,0,0,0],[0,0,0,0]], 'R', 2)\n",
    ">>> [[0, 0, 0, 0], [0, 0, 0, 0], [0, 0, 0, 0], [0, 0, 'R', 0]]\n",
    "add_coin([[0,0,0,0,0],[0,0,0,0,0],['R',0,0,0,0],['Y','R',0,'R','Y']], 'Y', 1)\n",
    ">>> [[0, 0, 0, 0, 0],\n",
    " [0, 0, 0, 0, 0],\n",
    " ['R', 'Y', 0, 0, 0],\n",
    " ['Y', 'R', 0, 'R', 'Y']]\n",
    "```"
   ]
  },
  {
   "cell_type": "code",
   "execution_count": 2,
   "metadata": {},
   "outputs": [],
   "source": [
    "def add_coin(board, coin, column) :\n",
    "    # let c represents column\n",
    "    c = column \n",
    "    \n",
    "    #Start searching from last row, represented by 'r'\n",
    "    for r in range(len(board)-1,-1,-1): \n",
    "        \n",
    "        #Look for an available empty spot\n",
    "        if board[r][c] == 0:\n",
    "            #Replace the value of current row with the new value of coin\n",
    "            board[r] = board[r][:c]+[coin]+board[r][c+1:]\n",
    "            #exiting loop and update board\n",
    "            return board"
   ]
  },
  {
   "cell_type": "markdown",
   "metadata": {},
   "source": [
    "## Task 2 (6 marks)\n",
    "To ascertain whether the game is finished, we need a function to determine whether a particular player has won.  Write a function ``is_winner(board, coin)``.  This function should take the following parameters:\n",
    "- ``board``: A list of lists representing the current state of the board\n",
    "- ``coin``: The character representing the current player's coin, i.e. 'R' or 'Y'\n",
    "Your function should return ``True`` if the player using the ``coin`` coins has won the game in the current board position and ``False`` otherwise.\n",
    "\n",
    "Here are some examples you can use to call your function:\n",
    "```python\n",
    "is_winner([[0,0,0,0,0],[0,0,0,0,0],['R',0,0,0,0],['Y','R',0,'R','Y']], 'Y')\n",
    ">>> False\n",
    "is_winner([['Y',0,0,0],['Y',0,0,0],['Y',0,'R','R'],['Y',0,'R','R']], 'R')\n",
    ">>> True\n",
    "```"
   ]
  },
  {
   "cell_type": "code",
   "execution_count": 3,
   "metadata": {},
   "outputs": [],
   "source": [
    "def is_winner(board, coin) :\n",
    "    #Check each row in board where 'r' represents row\n",
    "    for r in range(len(board)-1):\n",
    "        #Check each column in each row where 'c' represents column\n",
    "        for c in range(len(board[r])-1):\n",
    "            #Check if coin are all four spots\n",
    "            if coin == board[r][c] and coin == board[r][c+1] \\\n",
    "                and coin == board[r+1][c] and coin == board[r+1][c+1]:\n",
    "                    #Return true if our coin in all four spots in a square.\n",
    "                    return True\n",
    "    #Return false if none of our coins in all four spots in any square\n",
    "    return False"
   ]
  },
  {
   "cell_type": "markdown",
   "metadata": {},
   "source": [
    "## Task 3 (9 marks)\n",
    "With these essential functions in place, we now wish to work towards building a competent AI to play our Connect Square game.  The concept of a <i>heuristic</i> is central to building an AI for most strategy games.  A heuristic is a function that maps a particular game state to a numeric value, indicating how desirable that state is to a particular player.  For example, a game state in which the player is about to win could be assigned a very high heuristic value, while a game state in which the player is about to lose could be assigned a very low value.\n",
    "\n",
    "There are numerous ways in which we can define a heuristic for any particular game, but we will adopt the following approach:\n",
    "- We will consider each overlapping 2 x 2 square within the grid.  For example, the points (0,0), (0, 1), (1, 0) and (1,1) will represent one square.  (1,0), (1, 1), (2, 0) and (2,1) will represent a second square and so on.\n",
    "- Consider the four points making up each square:\n",
    "\n",
    "\t-  If any one of those points contains an opponent's coin, it will be impossible to win the game by filling this square with our own coins and the square will therefore be assigned a value of 0.  \n",
    "\t- If one of the points contains our coin and the other three are empty the square will be assigned a value of 1. \n",
    "\t- If two of the points contain our coins and the other two points are empty then the square will be assigned a value of 10.\n",
    "\t- If three of the points contain our coins and the other one is empty then the square will be assigned a value of 100.\n",
    "\t- If all four of the points contain our coins then we have won the game and the square will be assigned a value of 1000.\n",
    "- The heuristic value for this game state is the sum of the value of each square in the grid.\n",
    "Note that there are some drawbacks to using this heuristic.  In particular, we don't consider how close our opponent is to completing a square so an AI that uses this heuristic will not try to prevent an opponent from completing his square.  You might like to consider how you could improve upon this heuristic, but for this task you should implement the heuristic as described.  Write a function ``heuristic(board, coin)`` that returns the heuristic value of the ``board`` for the player using the ``coin`` coins.\n",
    "\n",
    "Here are some examples you can use to call your function:\n",
    "\n",
    "```python\n",
    "heuristic([[0,0,0,0,0],[0,0,0,0,0],['R',0,0,0,0],['Y','R',0,'R','Y']], 'R')\n",
    ">>> 3\n",
    "heuristic([['Y',0,0,0],['Y',0,0,0],['Y',0,'R','R'],['Y',0,'R','R']], 'R')\n",
    ">>> 1021\n",
    "```"
   ]
  },
  {
   "cell_type": "code",
   "execution_count": 4,
   "metadata": {},
   "outputs": [],
   "source": [
    "def heuristic(board, coin) :\n",
    "    #Initialise heuristic value to zero\n",
    "    h_val = 0\n",
    "    \n",
    "    #Loop through each square\n",
    "    for r in range(len(board)-1):\n",
    "        for c in range(len(board[r])-1):\n",
    "            #set a list of the points in 2 x 2 grid for each square\n",
    "            square = [board[r][c], board[r][c+1], board[r+1][c], board[r+1][c+1]]\n",
    "            \n",
    "            #If not any opponent coins but only our coin in a square \n",
    "            if coin in square: \n",
    "                #Add value to the total value depends on how many our coins in a square\n",
    "                h_val += 10**(square.count(coin)-1)\n",
    "    return h_val"
   ]
  },
  {
   "cell_type": "markdown",
   "metadata": {},
   "source": [
    "## Task 4 (9 marks)\n",
    "We now wish to create an AI player capable of playing (and hopefully winning) our Connect Square game.  Write a function ``ai_move(board, coin)`` to play the Connect Square game.  Your function should generate a list of all possible moves from the current ``board``.  Your function should then generate the board states that arise from making each of these moves and select the move that results in the state with the highest heuristic value.  If two states have the same heuristic value, then select the one that results from the using the numerically lowest column (e.g. column 1 is preferred over column 2 if the heuristic values are identical).  Finally, your function should return the new board state after applying the best move.\n",
    "\n",
    "Here are some examples you can use to call your function:\n",
    "\n",
    "```python\n",
    "ai_move([[0,0,0,0,0],[0,0,0,0,0],['R',0,0,0,0],['Y','R',0,'R','Y']], 'Y')\n",
    ">>> [[0, 0, 0, 0, 0],\n",
    " [0, 0, 0, 0, 0],\n",
    " ['R', 0, 0, 'Y', 0],\n",
    " ['Y', 'R', 0, 'R', 'Y']]\n",
    "ai_move([[0,0,0,0,0],['Y',0,0,0,0],['R',0,0,0,'Y'],['Y','R',0,'R','Y']], 'Y')\n",
    ">>> [[0, 0, 0, 0, 0],\n",
    " ['Y', 0, 0, 0, 0],\n",
    " ['R', 0, 0, 'Y', 'Y'],\n",
    " ['Y', 'R', 0, 'R', 'Y']]\n",
    "```"
   ]
  },
  {
   "cell_type": "code",
   "execution_count": 9,
   "metadata": {},
   "outputs": [
    {
     "data": {
      "text/plain": [
       "[[0, 0, 0, 0, 0],\n",
       " [0, 0, 0, 0, 0],\n",
       " [0, 0, 0, 'R', 0],\n",
       " ['Y', 'R', 'R', 'R', 'Y']]"
      ]
     },
     "execution_count": 9,
     "metadata": {},
     "output_type": "execute_result"
    }
   ],
   "source": [
    "def ai_move(board, coin) :\n",
    "    \n",
    "    #Generate a list of all possible moves from the current board.\n",
    "    all_lst = [] #Initialise a list for all possible moves\n",
    "    ini_board = board #Store the original input board as an initial board\n",
    "    h_val_lst = [] #Initialise a list for all heuristic values\n",
    "    \n",
    "    #Loop through each column\n",
    "    for column in range(len(board[0])):\n",
    "        \n",
    "        #Reset the board as in original input value\n",
    "        board = list(ini_board) \n",
    "        #Add all possible moves into one list\n",
    "        all_lst.append(add_coin(board,coin,column))\n",
    "        \n",
    "        #Heuristic value comparison list\n",
    "        h_val = heuristic(board, coin)\n",
    "        #Add all heuristic values into a list\n",
    "        h_val_lst.append(h_val)\n",
    "    \n",
    "    #Use the column that has first highest heuristic value\n",
    "    column = h_val_lst.index(max(h_val_lst))\n",
    "    #Reset the board as in original input value\n",
    "    board = list(ini_board) \n",
    "    #Ready to add coin\n",
    "    add_coin(board,coin,column)\n",
    "    return board"
   ]
  },
  {
   "cell_type": "markdown",
   "metadata": {},
   "source": [
    "## Code to run your game\n",
    "The following functions will allow you to play a game against your AI.  This may be useful when debugging."
   ]
  },
  {
   "cell_type": "code",
   "execution_count": 5,
   "metadata": {},
   "outputs": [],
   "source": [
    "def moves_exist(board) :\n",
    "    \"\"\"\n",
    "    A move can still be made if any blank space exists on the top row\n",
    "    \"\"\"\n",
    "    if 0 in board[0] :\n",
    "        return True\n",
    "    return False\n",
    "\n",
    "def nice_print(board) :\n",
    "    \"\"\"\n",
    "    Formats the board for nicer display\n",
    "    \"\"\"\n",
    "    for line in board :\n",
    "        print(*line)\n",
    "    \n",
    "def play_game(rows, cols) :\n",
    "    \"\"\"\n",
    "    Plays a game with a human player against your AI\n",
    "    \"\"\"\n",
    "    # Instantiate an empty board\n",
    "    board = [([0]*cols) for i in range(rows)]\n",
    "\n",
    "    # Continue playing as long as a legal move can still be made\n",
    "    while(moves_exist(board)) :\n",
    "\n",
    "        # AI plays first with the red tokens\n",
    "        board = ai_move(board, 'R')\n",
    "        nice_print(board)\n",
    "\n",
    "        # Check if the AI Player has won the game\n",
    "        if (is_winner(board, 'R')) :\n",
    "            print('AI Wins!')\n",
    "            break\n",
    "\n",
    "        # Player moves next with the yellow tokens\n",
    "        player_move = input('Enter your move: ')\n",
    "        board = add_coin(board, 'Y', int(player_move))\n",
    "        if (is_winner(board, 'Y')) :\n",
    "            print('You win!')\n",
    "            break"
   ]
  },
  {
   "cell_type": "code",
   "execution_count": null,
   "metadata": {},
   "outputs": [
    {
     "name": "stdout",
     "output_type": "stream",
     "text": [
      "0 0 0 0 0 0 0\n",
      "0 0 0 0 0 0 0\n",
      "0 0 0 0 0 0 0\n",
      "0 0 0 0 0 0 0\n",
      "0 R 0 0 0 0 0\n"
     ]
    },
    {
     "name": "stdin",
     "output_type": "stream",
     "text": [
      "Enter your move:  5\n"
     ]
    },
    {
     "name": "stdout",
     "output_type": "stream",
     "text": [
      "0 0 0 0 0 0 0\n",
      "0 0 0 0 0 0 0\n",
      "0 0 0 0 0 0 0\n",
      "0 R 0 0 0 0 0\n",
      "0 R 0 0 0 Y 0\n"
     ]
    },
    {
     "name": "stdin",
     "output_type": "stream",
     "text": [
      "Enter your move:  2\n"
     ]
    },
    {
     "name": "stdout",
     "output_type": "stream",
     "text": [
      "0 0 0 0 0 0 0\n",
      "0 0 0 0 0 0 0\n",
      "0 0 0 0 0 0 0\n",
      "0 R R 0 0 0 0\n",
      "0 R Y 0 0 Y 0\n"
     ]
    },
    {
     "name": "stdin",
     "output_type": "stream",
     "text": [
      "Enter your move:  1\n"
     ]
    },
    {
     "name": "stdout",
     "output_type": "stream",
     "text": [
      "0 0 0 0 0 0 0\n",
      "0 0 0 0 0 0 0\n",
      "0 Y R 0 0 0 0\n",
      "0 R R 0 0 0 0\n",
      "0 R Y 0 0 Y 0\n"
     ]
    },
    {
     "name": "stdin",
     "output_type": "stream",
     "text": [
      "Enter your move:  4\n"
     ]
    },
    {
     "name": "stdout",
     "output_type": "stream",
     "text": [
      "0 0 0 0 0 0 0\n",
      "0 0 0 0 0 0 0\n",
      "0 Y R 0 0 0 0\n",
      "0 R R 0 0 0 0\n",
      "R R Y 0 Y Y 0\n"
     ]
    },
    {
     "name": "stdin",
     "output_type": "stream",
     "text": [
      "Enter your move:  0\n"
     ]
    },
    {
     "name": "stdout",
     "output_type": "stream",
     "text": [
      "0 0 0 0 0 0 0\n",
      "0 0 R 0 0 0 0\n",
      "0 Y R 0 0 0 0\n",
      "Y R R 0 0 0 0\n",
      "R R Y 0 Y Y 0\n"
     ]
    }
   ],
   "source": [
    "# Call play_game to play against your AI.  Useful for testing your code.\n",
    "play_game(5,7)"
   ]
  },
  {
   "cell_type": "code",
   "execution_count": null,
   "metadata": {},
   "outputs": [],
   "source": []
  }
 ],
 "metadata": {
  "kernelspec": {
   "display_name": "Python 3",
   "language": "python",
   "name": "python3"
  },
  "language_info": {
   "codemirror_mode": {
    "name": "ipython",
    "version": 3
   },
   "file_extension": ".py",
   "mimetype": "text/x-python",
   "name": "python",
   "nbconvert_exporter": "python",
   "pygments_lexer": "ipython3",
   "version": "3.7.4"
  }
 },
 "nbformat": 4,
 "nbformat_minor": 5
}
